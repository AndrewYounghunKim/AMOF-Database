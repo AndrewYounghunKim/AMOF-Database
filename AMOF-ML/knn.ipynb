{
 "cells": [
  {
   "cell_type": "code",
   "execution_count": 1,
   "metadata": {},
   "outputs": [],
   "source": [
    "from sklearn.model_selection import train_test_split, GridSearchCV\n",
    "from sklearn.neighbors import KNeighborsClassifier\n",
    "from sklearn.metrics import accuracy_score, classification_report, confusion_matrix\n",
    "\n",
    "import numpy as np\n",
    "import json\n",
    "import pandas as pd"
   ]
  },
  {
   "cell_type": "code",
   "execution_count": 2,
   "metadata": {},
   "outputs": [],
   "source": [
    "with open('x_vector.json', 'r') as file:\n",
    "    x_vector = json.load(file)\n",
    "\n",
    "with open('y_vector.json', 'r') as file:\n",
    "    y_vector = json.load(file)\n",
    "\n",
    "\n",
    "filtered_indices = [\n",
    "    i for i, sublist in enumerate(x_vector) \n",
    "    if not any(\n",
    "        (isinstance(value, (float, int)) and (np.isinf(value) or np.abs(value) > np.finfo(np.float32).max or np.isnan(value) or value == 'nan'))\n",
    "        for value in sublist\n",
    "    )\n",
    "]\n",
    "\n",
    "x_vector_filtered = [x_vector[i] for i in filtered_indices]\n",
    "y_vector_filtered = [y_vector[i] for i in filtered_indices]\n"
   ]
  },
  {
   "cell_type": "code",
   "execution_count": 3,
   "metadata": {},
   "outputs": [],
   "source": [
    "x_train, x_test, y_train, y_test = train_test_split(x_vector_filtered, y_vector_filtered, test_size=0.20, random_state=42)\n"
   ]
  },
  {
   "cell_type": "code",
   "execution_count": 4,
   "metadata": {},
   "outputs": [],
   "source": [
    "x_train = np.array(x_train).astype(float)\n",
    "y_train = np.array(y_train).astype(float)\n",
    "x_test = np.array(x_test).astype(float)\n",
    "y_test = np.array(y_test).astype(float)"
   ]
  },
  {
   "cell_type": "code",
   "execution_count": 5,
   "metadata": {},
   "outputs": [
    {
     "name": "stdout",
     "output_type": "stream",
     "text": [
      "Test Accuracy: 0.7357723577235772\n",
      "\n",
      "Classification Report:\n",
      "              precision    recall  f1-score   support\n",
      "\n",
      "         0.0       0.81      0.79      0.80       164\n",
      "         1.0       0.60      0.62      0.61        82\n",
      "\n",
      "    accuracy                           0.74       246\n",
      "   macro avg       0.70      0.71      0.71       246\n",
      "weighted avg       0.74      0.74      0.74       246\n",
      "\n",
      "Confusion Matrix:\n",
      "[[130  34]\n",
      " [ 31  51]]\n"
     ]
    }
   ],
   "source": [
    "knn_clf = KNeighborsClassifier(\n",
    "    n_neighbors=5,\n",
    "    weights='uniform',\n",
    "    p=2\n",
    ")\n",
    "\n",
    "knn_clf.fit(x_train, y_train)\n",
    "\n",
    "y_pred = knn_clf.predict(x_test)\n",
    "\n",
    "accuracy = accuracy_score(y_test, y_pred)\n",
    "print(\"Test Accuracy:\", accuracy)\n",
    "\n",
    "print(\"\\nClassification Report:\")\n",
    "print(classification_report(y_test, y_pred))\n",
    "\n",
    "print(\"Confusion Matrix:\")\n",
    "print(confusion_matrix(y_test, y_pred))\n"
   ]
  }
 ],
 "metadata": {
  "kernelspec": {
   "display_name": "feature_extraction",
   "language": "python",
   "name": "python3"
  },
  "language_info": {
   "codemirror_mode": {
    "name": "ipython",
    "version": 3
   },
   "file_extension": ".py",
   "mimetype": "text/x-python",
   "name": "python",
   "nbconvert_exporter": "python",
   "pygments_lexer": "ipython3",
   "version": "3.9.18"
  }
 },
 "nbformat": 4,
 "nbformat_minor": 2
}
